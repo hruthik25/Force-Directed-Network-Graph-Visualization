{
 "cells": [
  {
   "cell_type": "code",
   "execution_count": 1,
   "metadata": {
    "id": "iqeIjbkktAwA"
   },
   "outputs": [],
   "source": [
    "import pandas as pd\n",
    "import networkx as nx\n",
    "import json\n",
    "pd.set_option('display.max_columns', None)\n",
    "import matplotlib.pyplot as plt\n",
    "import pprint\n",
    "from networkx.readwrite import json_graph"
   ]
  },
  {
   "cell_type": "code",
   "execution_count": 2,
   "metadata": {
    "id": "QQl1Mk3AtNNP"
   },
   "outputs": [],
   "source": [
    "df = pd.read_csv(\"https://raw.githubusercontent.com/umassdgithub/Week-8-part-1/main/data/data_scopus.csv\")\n",
    "df= df[~pd.isnull(df['Authors with affiliations'])].copy()"
   ]
  },
  {
   "cell_type": "code",
   "execution_count": 3,
   "metadata": {
    "id": "VDqkmtN5tTyU"
   },
   "outputs": [],
   "source": [
    "def get_first_author_affilation(x):\n",
    "  try:\n",
    "    return x.split(\";\")[0].split(\",\")[-1].strip()\n",
    "  except Exception as ex:\n",
    "    print(x)\n",
    "df['First_author_Country']=df['Authors with affiliations'].apply(get_first_author_affilation)"
   ]
  },
  {
   "cell_type": "code",
   "execution_count": 4,
   "metadata": {
    "colab": {
     "base_uri": "https://localhost:8080/"
    },
    "id": "y9XdKK-KtXkU",
    "outputId": "b3bc1c4b-9b7e-4f10-fb90-30e5217b8c52"
   },
   "outputs": [
    {
     "data": {
      "text/plain": [
       "0             Canada\n",
       "1              Italy\n",
       "2             Serbia\n",
       "3              Japan\n",
       "4              India\n",
       "           ...      \n",
       "565           Canada\n",
       "566    United States\n",
       "567      South Korea\n",
       "568    United States\n",
       "569           Canada\n",
       "Name: First_author_Country, Length: 561, dtype: object"
      ]
     },
     "execution_count": 4,
     "metadata": {},
     "output_type": "execute_result"
    }
   ],
   "source": [
    "df['First_author_Country']"
   ]
  },
  {
   "cell_type": "code",
   "execution_count": 5,
   "metadata": {
    "colab": {
     "base_uri": "https://localhost:8080/",
     "height": 739
    },
    "id": "X4Gth61Itd9F",
    "outputId": "bf5c8dc5-3263-4584-8ead-85b83a7caa64"
   },
   "outputs": [
    {
     "data": {
      "text/html": [
       "<div>\n",
       "<style scoped>\n",
       "    .dataframe tbody tr th:only-of-type {\n",
       "        vertical-align: middle;\n",
       "    }\n",
       "\n",
       "    .dataframe tbody tr th {\n",
       "        vertical-align: top;\n",
       "    }\n",
       "\n",
       "    .dataframe thead th {\n",
       "        text-align: right;\n",
       "    }\n",
       "</style>\n",
       "<table border=\"1\" class=\"dataframe\">\n",
       "  <thead>\n",
       "    <tr style=\"text-align: right;\">\n",
       "      <th></th>\n",
       "      <th>index</th>\n",
       "      <th>Source title</th>\n",
       "    </tr>\n",
       "  </thead>\n",
       "  <tbody>\n",
       "    <tr>\n",
       "      <th>0</th>\n",
       "      <td>Proc. of the IADIS Int. Conf. Computer Graphic...</td>\n",
       "      <td>55</td>\n",
       "    </tr>\n",
       "    <tr>\n",
       "      <th>1</th>\n",
       "      <td>MCCSIS 2018 - Multi Conference on Computer Sci...</td>\n",
       "      <td>53</td>\n",
       "    </tr>\n",
       "    <tr>\n",
       "      <th>2</th>\n",
       "      <td>Proceedings of the International Conferences o...</td>\n",
       "      <td>49</td>\n",
       "    </tr>\n",
       "    <tr>\n",
       "      <th>3</th>\n",
       "      <td>Proceedings of the IEEE Visualization Conference</td>\n",
       "      <td>48</td>\n",
       "    </tr>\n",
       "    <tr>\n",
       "      <th>4</th>\n",
       "      <td>Proceedings of the IEEE Symposium on Informati...</td>\n",
       "      <td>41</td>\n",
       "    </tr>\n",
       "    <tr>\n",
       "      <th>5</th>\n",
       "      <td>Lecture Notes in Artificial Intelligence (Subs...</td>\n",
       "      <td>35</td>\n",
       "    </tr>\n",
       "    <tr>\n",
       "      <th>6</th>\n",
       "      <td>International Multidisciplinary Scientific Geo...</td>\n",
       "      <td>32</td>\n",
       "    </tr>\n",
       "    <tr>\n",
       "      <th>7</th>\n",
       "      <td>Proceedings of the ACM Symposium on Applied Co...</td>\n",
       "      <td>32</td>\n",
       "    </tr>\n",
       "    <tr>\n",
       "      <th>8</th>\n",
       "      <td>International Journal of Human Computer Studies</td>\n",
       "      <td>29</td>\n",
       "    </tr>\n",
       "    <tr>\n",
       "      <th>9</th>\n",
       "      <td>IS and T International Symposium on Electronic...</td>\n",
       "      <td>25</td>\n",
       "    </tr>\n",
       "    <tr>\n",
       "      <th>10</th>\n",
       "      <td>Proceedings of the Annual Hawaii International...</td>\n",
       "      <td>22</td>\n",
       "    </tr>\n",
       "    <tr>\n",
       "      <th>11</th>\n",
       "      <td>Neurocomputing</td>\n",
       "      <td>19</td>\n",
       "    </tr>\n",
       "    <tr>\n",
       "      <th>12</th>\n",
       "      <td>Computers and Geosciences</td>\n",
       "      <td>17</td>\n",
       "    </tr>\n",
       "    <tr>\n",
       "      <th>13</th>\n",
       "      <td>Proceedings of the International Joint Confere...</td>\n",
       "      <td>15</td>\n",
       "    </tr>\n",
       "    <tr>\n",
       "      <th>14</th>\n",
       "      <td>Cartography and Geographic Information Science</td>\n",
       "      <td>15</td>\n",
       "    </tr>\n",
       "    <tr>\n",
       "      <th>15</th>\n",
       "      <td>Environmental Modelling and Software</td>\n",
       "      <td>15</td>\n",
       "    </tr>\n",
       "    <tr>\n",
       "      <th>16</th>\n",
       "      <td>Automation in Construction</td>\n",
       "      <td>14</td>\n",
       "    </tr>\n",
       "    <tr>\n",
       "      <th>17</th>\n",
       "      <td>Journal of Biomedical Informatics</td>\n",
       "      <td>13</td>\n",
       "    </tr>\n",
       "    <tr>\n",
       "      <th>18</th>\n",
       "      <td>Expert Systems with Applications</td>\n",
       "      <td>12</td>\n",
       "    </tr>\n",
       "    <tr>\n",
       "      <th>19</th>\n",
       "      <td>IOP Conference Series: Earth and Environmental...</td>\n",
       "      <td>8</td>\n",
       "    </tr>\n",
       "    <tr>\n",
       "      <th>20</th>\n",
       "      <td>Multimedia Tools and Applications</td>\n",
       "      <td>8</td>\n",
       "    </tr>\n",
       "    <tr>\n",
       "      <th>21</th>\n",
       "      <td>BMC Genomics</td>\n",
       "      <td>4</td>\n",
       "    </tr>\n",
       "  </tbody>\n",
       "</table>\n",
       "</div>"
      ],
      "text/plain": [
       "                                                index  Source title\n",
       "0   Proc. of the IADIS Int. Conf. Computer Graphic...            55\n",
       "1   MCCSIS 2018 - Multi Conference on Computer Sci...            53\n",
       "2   Proceedings of the International Conferences o...            49\n",
       "3    Proceedings of the IEEE Visualization Conference            48\n",
       "4   Proceedings of the IEEE Symposium on Informati...            41\n",
       "5   Lecture Notes in Artificial Intelligence (Subs...            35\n",
       "6   International Multidisciplinary Scientific Geo...            32\n",
       "7   Proceedings of the ACM Symposium on Applied Co...            32\n",
       "8     International Journal of Human Computer Studies            29\n",
       "9   IS and T International Symposium on Electronic...            25\n",
       "10  Proceedings of the Annual Hawaii International...            22\n",
       "11                                     Neurocomputing            19\n",
       "12                          Computers and Geosciences            17\n",
       "13  Proceedings of the International Joint Confere...            15\n",
       "14     Cartography and Geographic Information Science            15\n",
       "15               Environmental Modelling and Software            15\n",
       "16                         Automation in Construction            14\n",
       "17                  Journal of Biomedical Informatics            13\n",
       "18                   Expert Systems with Applications            12\n",
       "19  IOP Conference Series: Earth and Environmental...             8\n",
       "20                  Multimedia Tools and Applications             8\n",
       "21                                       BMC Genomics             4"
      ]
     },
     "execution_count": 5,
     "metadata": {},
     "output_type": "execute_result"
    }
   ],
   "source": [
    "df[\"Source title\"].value_counts().reset_index()"
   ]
  },
  {
   "cell_type": "code",
   "execution_count": 6,
   "metadata": {
    "id": "Pre8t4W9ti0L"
   },
   "outputs": [],
   "source": [
    "nodes = df['EID'].values\n",
    "df = df.fillna(0)"
   ]
  },
  {
   "cell_type": "code",
   "execution_count": 7,
   "metadata": {
    "id": "UiN1el5RwpiQ"
   },
   "outputs": [],
   "source": [
    "G = nx.Graph()"
   ]
  },
  {
   "cell_type": "code",
   "execution_count": 8,
   "metadata": {
    "id": "PuFZhVt6wrDd"
   },
   "outputs": [],
   "source": [
    "nodes = []\n",
    "for row in df.iterrows():\n",
    "  nodes.append((row[1]['EID'],{\n",
    "      \"Title\": row[1]['Title'],\n",
    "      \"Year\" : row[1]['Year'],\n",
    "      \"Citations\" : row[1]['Cited by'],\n",
    "      \"Publisher\" : row[1]['Publisher'],\n",
    "      \"Country\" : row[1]['First_author_Country']\n",
    "  }))"
   ]
  },
  {
   "cell_type": "code",
   "execution_count": 9,
   "metadata": {
    "id": "nqOTIwmaw3_R"
   },
   "outputs": [],
   "source": [
    "G.add_nodes_from(nodes)"
   ]
  },
  {
   "cell_type": "code",
   "execution_count": 10,
   "metadata": {
    "id": "JleUmVpIwzcM"
   },
   "outputs": [],
   "source": [
    "edges = []\n",
    "for row in df.iterrows():\n",
    "  current_paper = row[1]['EID']\n",
    "  if \";\" in row[1]['Author(s) ID']: \n",
    "    authors = row[1]['Author(s) ID'][:-1].split(\";\")\n",
    "    for author in authors:\n",
    "      papers = df[df['Author(s) ID'].str.contains(author)]['EID'].values\n",
    "      if len(papers)>0:\n",
    "        for paper in papers:\n",
    "          if paper != current_paper:\n",
    "            edges.append((current_paper,paper))\n",
    "  else:\n",
    "    continue"
   ]
  },
  {
   "cell_type": "code",
   "execution_count": 11,
   "metadata": {
    "id": "Cy0DzmR3xBQ4"
   },
   "outputs": [],
   "source": [
    "G.add_edges_from(edges)"
   ]
  },
  {
   "cell_type": "code",
   "execution_count": 12,
   "metadata": {
    "id": "LnPxq2WrxHFs"
   },
   "outputs": [],
   "source": [
    "pos = nx.spring_layout(G)"
   ]
  },
  {
   "cell_type": "code",
   "execution_count": 13,
   "metadata": {
    "colab": {
     "base_uri": "https://localhost:8080/",
     "height": 319
    },
    "id": "jiNfeZ9TxLaB",
    "outputId": "fe2583e2-8653-4f54-b5e9-b5ff91bdd429"
   },
   "outputs": [
    {
     "data": {
      "image/png": "[encoded data removed]",
      "text/plain": [
       "<Figure size 640x480 with 1 Axes>"
      ]
     },
     "metadata": {},
     "output_type": "display_data"
    }
   ],
   "source": [
    "nx.draw(G,pos=pos, node_size=40,alpha=.2)"
   ]
  },
  {
   "cell_type": "code",
   "execution_count": 14,
   "metadata": {
    "id": "EkCl1EnRxOM4"
   },
   "outputs": [],
   "source": [
    "with open(\"publication.json\",'w') as f:\n",
    "  json.dump(json_graph.node_link_data(G),f)"
   ]
  },
  {
   "cell_type": "code",
   "execution_count": 15,
   "metadata": {
    "id": "Oe-6-LPZxZoa"
   },
   "outputs": [],
   "source": [
    "nx.write_gml(G,\"network.gml\")"
   ]
  },
  {
   "cell_type": "code",
   "execution_count": null,
   "metadata": {},
   "outputs": [],
   "source": []
  }
 ],
 "metadata": {
  "colab": {
   "provenance": [],
   "toc_visible": true
  },
  "kernelspec": {
   "display_name": "Python 3 (ipykernel)",
   "language": "python",
   "name": "python3"
  },
  "language_info": {
   "codemirror_mode": {
    "name": "ipython",
    "version": 3
   },
   "file_extension": ".py",
   "mimetype": "text/x-python",
   "name": "python",
   "nbconvert_exporter": "python",
   "pygments_lexer": "ipython3",
   "version": "3.9.13"
  }
 },
 "nbformat": 4,
 "nbformat_minor": 1
}
